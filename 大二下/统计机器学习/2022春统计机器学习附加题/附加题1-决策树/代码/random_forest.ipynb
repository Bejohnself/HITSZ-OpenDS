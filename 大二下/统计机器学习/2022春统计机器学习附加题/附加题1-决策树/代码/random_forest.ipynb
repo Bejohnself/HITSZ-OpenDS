{
 "cells": [
  {
   "cell_type": "code",
   "execution_count": 2,
   "metadata": {},
   "outputs": [
    {
     "name": "stdout",
     "output_type": "stream",
     "text": [
      "Score: [0.7525   0.725    0.745625 0.755    0.7275  ]\n",
      "Average score: 0.741125\n"
     ]
    }
   ],
   "source": [
    "import numpy as np\n",
    "import xgboost as xgb\n",
    "import pandas as pd\n",
    "from sklearn.ensemble import RandomForestClassifier\n",
    "from sklearn.ensemble import GradientBoostingClassifier\n",
    "import random\n",
    "import matplotlib.pyplot as plt\n",
    "from sklearn.model_selection import (\n",
    "    GridSearchCV,\n",
    "    train_test_split,\n",
    "    KFold,\n",
    "    cross_val_score,\n",
    ")\n",
    "from sklearn.metrics import accuracy_score\n",
    "from sklearn import metrics\n",
    "\n",
    "\n",
    "data = pd.read_csv(\"./train_std.csv\")\n",
    "# 分离特征和标签\n",
    "X = data.drop([\"uid\", \"y\"], axis=1)\n",
    "y = data[\"y\"]\n",
    "params = {\n",
    "    # \"learning_rate\": 0.001,\n",
    "    \"n_estimators\": 200,\n",
    "    \"max_depth\": 14,\n",
    "    \"min_samples_split\": 2,\n",
    "    \"min_samples_leaf\": 1,\n",
    "    \"max_features\": 9,\n",
    "    \"n_jobs\":-1\n",
    "    # \"subsample\": 0.47,\n",
    "}\n",
    "\n",
    "param_test1 = {\"max_depth\": range(9, 15, 1)\n",
    "            #    , \"min_samples_split\": range(2, 5, 1)\n",
    "               }\n",
    "param_test2 = {\"min_samples_split\": [i for i in range(2, 5,1)]\n",
    "               ,\"min_samples_leaf\": [i  for i in  range(1, 5,1)]}\n",
    "param_test3 = {\n",
    "    \"max_features\": [i  for i in range(7, 13, 1)],\n",
    "    # \"subsample\": [i / 100.0 for i in range(45, 55, 2)],\n",
    "}\n",
    "\n",
    "# cross = []\n",
    "# for i  in range(55,65,1):\n",
    "#     rf = RandomForestClassifier(n_estimators=i+1, n_jobs=-1,random_state=42)\n",
    "#     accuracy_score = cross_val_score(rf, X, y, cv=5).mean()\n",
    "#     cross.append(accuracy_score)\n",
    "# plt.plot(range(56,66,1),cross)\n",
    "# plt.xlabel('n_estimators')\n",
    "# plt.ylabel('acc')\n",
    "# plt.show()\n",
    "# print((cross.index(max(cross))*10)+1,max(cross))\n",
    "\n",
    "\n",
    "g_search = GridSearchCV(\n",
    "    estimator=RandomForestClassifier(**params, random_state=42),\n",
    "    param_grid=param_test3,\n",
    "    scoring=\"accuracy\",\n",
    "    cv=5,\n",
    "    verbose=3,\n",
    ")\n",
    "g_search.fit(X, y)\n",
    "g_search.best_params_, g_search.best_score_\n",
    "\n",
    "# clf = RandomForestClassifier(**params, random_state=42)\n",
    "# cv_result = .cv(params, xgb.DMatrix(X.values,label=y.values), num_boost_round=params['n_estimators'], nfold=5,metrics='logloss', early_stopping_rounds=50)\n",
    "# print(cv_result.shape[0])\n",
    "\n",
    "# clf = RandomForestClassifier(**params, random_state=42)\n",
    "# k = 5\n",
    "# kfold = KFold(n_splits=k, shuffle=True, random_state=42)\n",
    "# scores = cross_val_score(clf, X, y, cv=kfold)\n",
    "# avg_score = np.mean(scores)\n",
    "# print(f\"Score: {scores}\")\n",
    "# print(f\"Average score: {avg_score}\")\n"
   ]
  },
  {
   "cell_type": "code",
   "execution_count": null,
   "metadata": {},
   "outputs": [],
   "source": []
  }
 ],
 "metadata": {
  "kernelspec": {
   "display_name": "base",
   "language": "python",
   "name": "python3"
  },
  "language_info": {
   "codemirror_mode": {
    "name": "ipython",
    "version": 3
   },
   "file_extension": ".py",
   "mimetype": "text/x-python",
   "name": "python",
   "nbconvert_exporter": "python",
   "pygments_lexer": "ipython3",
   "version": "3.7.10"
  },
  "orig_nbformat": 4
 },
 "nbformat": 4,
 "nbformat_minor": 2
}
