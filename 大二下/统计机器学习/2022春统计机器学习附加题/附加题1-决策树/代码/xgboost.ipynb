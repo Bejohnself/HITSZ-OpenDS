{
 "cells": [
  {
   "cell_type": "code",
   "execution_count": 3,
   "metadata": {
    "ExecuteTime": {
     "end_time": "2023-05-10T03:41:38.434398Z",
     "start_time": "2023-05-10T03:29:54.685199Z"
    }
   },
   "outputs": [
    {
     "name": "stdout",
     "output_type": "stream",
     "text": [
      "Score: [0.808125 0.805625 0.796875 0.820625 0.794375]\n",
      "Average score: 0.805125\n"
     ]
    }
   ],
   "source": [
    "import numpy as np\n",
    "import xgboost as xgb\n",
    "import pandas as pd\n",
    "import random\n",
    "import matplotlib.pyplot as plt\n",
    "from sklearn.model_selection import GridSearchCV, train_test_split, KFold, cross_val_score\n",
    "from sklearn.metrics import accuracy_score\n",
    "from sklearn import metrics\n",
    "\n",
    "\n",
    "# data = pd.read_csv(\"train.csv\")\n",
    "data = pd.read_csv(\"./train_std.csv\")\n",
    "# 分离特征和标签\n",
    "X = data.drop(['uid','y'], axis=1)\n",
    "# X = pd.get_dummies(data.drop(['uid','y'], axis=1))\n",
    "y = data['y']\n",
    "# 定义XGBoost模型\n",
    "#{'colsample_bytree': 0.6, 'learning_rate': 0.01, 'max_depth': 9, 'min_child_weight': 5, 'n_estimators': 1000, 'subsample': 1.0}\n",
    "params = {\n",
    "    'max_depth': 9, \n",
    "    'min_child_weight':2,\n",
    "    'colsample_bytree': 0.55,\n",
    "    'subsample': 0.88,\n",
    "    'learning_rate': 0.005, \n",
    "    'n_estimators': 1600, \n",
    "    'gamma':0.14,\n",
    "    'scale_pos_weight':1,\n",
    "    # 'tree_method':'gpu_hist',\n",
    "    'objective':'binary:logistic',\n",
    "    'reg_alpha':0\n",
    "    }\n",
    "\n",
    "param_test1 = {\n",
    " 'max_depth':range(7,13,1),\n",
    " 'min_child_weight':range(1,4,1)\n",
    "}\n",
    "param_test2 = {\n",
    " 'gamma':[i/100.0 for i in range(5,15)]\n",
    "}\n",
    "param_test3 = {\n",
    "'colsample_bytree':[i/100.0 for i in range(54,59,1)],\n",
    " 'subsample':[i/100.0 for i in range(85,90,1)]\n",
    "}\n",
    "\n",
    "\n",
    "g_search=GridSearchCV(estimator=xgb.XGBClassifier(**params,random_state=42),param_grid=param_test3,scoring='accuracy',cv=5,verbose=3)\n",
    "g_search.fit(X,y)\n",
    "g_search.best_params_,g_search.best_score_\n",
    "\n",
    "# clf=xgb.XGBClassifier(**params,random_state=42)\n",
    "# cv_result = xgb.cv(params, xgb.DMatrix(X.values,label=y.values), num_boost_round=params['n_estimators'], nfold=5,metrics='auc', early_stopping_rounds=200)\n",
    "# print(cv_result.shape[0])\n",
    "\n",
    "# clf=xgb.XGBClassifier(**params,random_state=42)\n",
    "# k = 5\n",
    "# kfold = KFold(n_splits=k, shuffle=True, random_state=42)\n",
    "# scores = cross_val_score(clf,X, y, cv=kfold)\n",
    "# avg_score = np.mean(scores)\n",
    "# print(f\"Score: {scores}\")\n",
    "# print(f\"Average score: {avg_score}\")\n"
   ]
  },
  {
   "cell_type": "code",
   "execution_count": 26,
   "metadata": {
    "ExecuteTime": {
     "end_time": "2023-05-07T08:31:18.956175Z",
     "start_time": "2023-05-07T08:31:00.664191Z"
    },
    "collapsed": false,
    "jupyter": {
     "outputs_hidden": false
    }
   },
   "outputs": [],
   "source": [
    "import numpy as np\n",
    "import xgboost as xgb\n",
    "import pandas as pd\n",
    "import random\n",
    "from sklearn.model_selection import GridSearchCV, train_test_split\n",
    "from sklearn.metrics import accuracy_score\n",
    "\n",
    "\n",
    "data = pd.read_csv(\"./train_selected_feature_matrix.csv\")\n",
    "# 分离特征和标签\n",
    "X_train = data.drop(['uid','y'], axis=1)\n",
    "# X_train = pd.get_dummies(data.drop(['uid','y'], axis=1))  # 假设目标列名为'target'\n",
    "y_train = data['y']\n",
    "\n",
    "params = {'colsample_bytree': 0.6, 'learning_rate': 0.01, 'max_depth': 15, 'min_child_weight': 5, 'n_estimators': 1000, 'subsample': 1.0}\n",
    "\n",
    "best_xgb_model = xgb.XGBClassifier(**params,random_state=3141592)\n",
    "best_xgb_model.fit(X_train, y_train)\n",
    "\n",
    "# 使用最佳模型在测试集上进行预测\n",
    "data_test=pd.read_csv('test.csv')\n",
    "X_test=data_test.drop(['uid'],axis=1)\n",
    "\n",
    "y_test_pred = best_xgb_model.predict(X_test)\n",
    "submission = pd.DataFrame({'uid': data_test['uid'], 'y': y_test_pred})\n",
    "submission.to_csv('train_3141592_thesame.csv', index=False)"
   ]
  }
 ],
 "metadata": {
  "kernelspec": {
   "display_name": "myenv",
   "language": "python",
   "name": "python3"
  },
  "language_info": {
   "codemirror_mode": {
    "name": "ipython",
    "version": 3
   },
   "file_extension": ".py",
   "mimetype": "text/x-python",
   "name": "python",
   "nbconvert_exporter": "python",
   "pygments_lexer": "ipython3",
   "version": "3.7.10"
  }
 },
 "nbformat": 4,
 "nbformat_minor": 4
}
